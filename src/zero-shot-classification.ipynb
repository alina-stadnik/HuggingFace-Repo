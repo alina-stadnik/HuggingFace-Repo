{
 "cells": [
  {
   "cell_type": "markdown",
   "metadata": {},
   "source": [
    "## **Pre-Trained Models for Product Categorization**\n",
    "\n",
    "In the context of rapidly evolving product catalogs—such as e-commerce platforms or inventory management systems—automatically categorizing products becomes essential for efficient organization, searchability, and user experience. Utilizing pre-trained models for text classification offers a scalable solution to this challenge.\n",
    "\n",
    "Many pre-trained models, especially those based on architectures like BERT or RoBERTa, support zero-shot classification. This means they can categorize new products into previously unseen categories by simply providing descriptive labels, eliminating the need for labeled training data for every category.\n",
    "\n",
    "## **Natural Language Inference (NLI) - NLI-based Zero Shot Text Classification**\n",
    "\n",
    "Model details 🤗: [`facebook/bart-large-mnli`](https://huggingface.co/facebook/bart-large-mnli)\n",
    "\n",
    "Yin et al. proposed a method for using pre-trained NLI models as a ready-made zero-shot sequence classifiers. The method works by posing the sequence to be classified as the NLI premise and to construct a hypothesis from each candidate label. This method is effective in many cases, particularly when used with larger pre-trained models like BART and Roberta. "
   ]
  },
  {
   "cell_type": "code",
   "execution_count": 1,
   "metadata": {},
   "outputs": [
    {
     "data": {
      "application/vnd.jupyter.widget-view+json": {
       "model_id": "2207a90092384b87b22df850075a28ff",
       "version_major": 2,
       "version_minor": 0
      },
      "text/plain": [
       "config.json:   0%|          | 0.00/1.15k [00:00<?, ?B/s]"
      ]
     },
     "metadata": {},
     "output_type": "display_data"
    },
    {
     "data": {
      "application/vnd.jupyter.widget-view+json": {
       "model_id": "e0ac5ec2b1dd47e59672b6f862c5916c",
       "version_major": 2,
       "version_minor": 0
      },
      "text/plain": [
       "model.safetensors:   0%|          | 0.00/1.63G [00:00<?, ?B/s]"
      ]
     },
     "metadata": {},
     "output_type": "display_data"
    },
    {
     "data": {
      "application/vnd.jupyter.widget-view+json": {
       "model_id": "91273eee00584097be52c67126a4c2ee",
       "version_major": 2,
       "version_minor": 0
      },
      "text/plain": [
       "tokenizer_config.json:   0%|          | 0.00/26.0 [00:00<?, ?B/s]"
      ]
     },
     "metadata": {},
     "output_type": "display_data"
    },
    {
     "data": {
      "application/vnd.jupyter.widget-view+json": {
       "model_id": "f7cedb4fdc244d5e8365dd72f04622eb",
       "version_major": 2,
       "version_minor": 0
      },
      "text/plain": [
       "vocab.json:   0%|          | 0.00/899k [00:00<?, ?B/s]"
      ]
     },
     "metadata": {},
     "output_type": "display_data"
    },
    {
     "data": {
      "application/vnd.jupyter.widget-view+json": {
       "model_id": "acc72c0281d84188b638330bbb4f58f6",
       "version_major": 2,
       "version_minor": 0
      },
      "text/plain": [
       "merges.txt:   0%|          | 0.00/456k [00:00<?, ?B/s]"
      ]
     },
     "metadata": {},
     "output_type": "display_data"
    },
    {
     "data": {
      "application/vnd.jupyter.widget-view+json": {
       "model_id": "76be4dc2d01e42e78522cd91dad657ba",
       "version_major": 2,
       "version_minor": 0
      },
      "text/plain": [
       "tokenizer.json:   0%|          | 0.00/1.36M [00:00<?, ?B/s]"
      ]
     },
     "metadata": {},
     "output_type": "display_data"
    },
    {
     "name": "stderr",
     "output_type": "stream",
     "text": [
      "Hardware accelerator e.g. GPU is available in the environment, but no `device` argument is passed to the `Pipeline` object. Model will be on CPU.\n"
     ]
    }
   ],
   "source": [
    "from transformers import pipeline\n",
    "\n",
    "classifier = pipeline(\"zero-shot-classification\",\n",
    "                      model=\"facebook/bart-large-mnli\")"
   ]
  },
  {
   "cell_type": "code",
   "execution_count": 8,
   "metadata": {},
   "outputs": [
    {
     "data": {
      "text/plain": [
       "{'sequence': 'one day I will see the world',\n",
       " 'labels': ['travel', 'dancing', 'cooking'],\n",
       " 'scores': [0.9938650727272034, 0.0032737923320382833, 0.0028610334265977144]}"
      ]
     },
     "execution_count": 8,
     "metadata": {},
     "output_type": "execute_result"
    }
   ],
   "source": [
    "# Using the pipeline to classify sequences into any of the specified class names\n",
    "sequence_to_classify = \"one day I will see the world\"\n",
    "candidate_labels = ['travel', 'cooking', 'dancing']\n",
    "result = classifier(sequence_to_classify, candidate_labels)\n",
    "result"
   ]
  },
  {
   "cell_type": "code",
   "execution_count": 14,
   "metadata": {},
   "outputs": [
    {
     "name": "stdout",
     "output_type": "stream",
     "text": [
      "Label: 'travel' with a score of 0.994\n"
     ]
    }
   ],
   "source": [
    "# Define a threshold\n",
    "threshold = 0.9\n",
    "\n",
    "# Filter labels based on the threshold\n",
    "filtered_labels = [\n",
    "    (result['labels'][i], result['scores'][i]) \n",
    "    for i in range(len(result['scores'])) \n",
    "    if result['scores'][i] > threshold\n",
    "]\n",
    "\n",
    "# Print the labels and scores above the threshold\n",
    "if filtered_labels:\n",
    "    for label, score in filtered_labels:\n",
    "        print(f\"Label: '{label}' with a score of {score:.3f}\")\n",
    "else:\n",
    "    print(\"No labels exceed the threshold.\")"
   ]
  },
  {
   "cell_type": "code",
   "execution_count": 15,
   "metadata": {},
   "outputs": [
    {
     "data": {
      "text/plain": [
       "{'sequence': 'one day I will see the world',\n",
       " 'labels': ['travel', 'exploration', 'dancing', 'cooking'],\n",
       " 'scores': [0.994511067867279,\n",
       "  0.9383884072303772,\n",
       "  0.005706179421395063,\n",
       "  0.0018192887073382735]}"
      ]
     },
     "execution_count": 15,
     "metadata": {},
     "output_type": "execute_result"
    }
   ],
   "source": [
    "# If more than one candidate label can be correct, pass multi_label=True to calculate each class independently\n",
    "candidate_labels = ['travel', 'cooking', 'dancing', 'exploration']\n",
    "result = classifier(sequence_to_classify, candidate_labels, multi_label=True)\n",
    "result"
   ]
  },
  {
   "cell_type": "code",
   "execution_count": 16,
   "metadata": {},
   "outputs": [
    {
     "name": "stdout",
     "output_type": "stream",
     "text": [
      "Label: 'travel' with a score of 0.995\n",
      "Label: 'exploration' with a score of 0.938\n"
     ]
    }
   ],
   "source": [
    "# Define a threshold\n",
    "threshold = 0.9\n",
    "\n",
    "# Filter labels based on the threshold\n",
    "filtered_labels = [\n",
    "    (result['labels'][i], result['scores'][i]) \n",
    "    for i in range(len(result['scores'])) \n",
    "    if result['scores'][i] > threshold\n",
    "]\n",
    "\n",
    "# Print the labels and scores above the threshold\n",
    "if filtered_labels:\n",
    "    for label, score in filtered_labels:\n",
    "        print(f\"Label: '{label}' with a score of {score:.3f}\")\n",
    "else:\n",
    "    print(\"No labels exceed the threshold.\")"
   ]
  },
  {
   "cell_type": "code",
   "execution_count": 5,
   "metadata": {},
   "outputs": [
    {
     "data": {
      "text/plain": [
       "{'sequence': 'Latest model of smartphone with 5G connectivity and 128GB internal storage',\n",
       " 'labels': ['electronics', 'toys', 'food', 'books'],\n",
       " 'scores': [0.9613720774650574,\n",
       "  0.013380033895373344,\n",
       "  0.012821927666664124,\n",
       "  0.012426052242517471]}"
      ]
     },
     "execution_count": 5,
     "metadata": {},
     "output_type": "execute_result"
    }
   ],
   "source": [
    "# Other example\n",
    "other_candidate_labels = ['electronics', 'food', 'toys', 'books']\n",
    "classifier('''Latest model of smartphone with 5G connectivity and 128GB internal storage''', \n",
    "           candidate_labels=other_candidate_labels)"
   ]
  },
  {
   "cell_type": "markdown",
   "metadata": {},
   "source": [
    "## **🤗 Zero Shot Classification in pt-br**: [comprehend-it-multilang-base](https://huggingface.co/knowledgator/comprehend_it-multilingual-t5-base)\n",
    "\n",
    "`comprehend_it-multilingual-t5-base` is an encoder-decoder model based on mT5-base that was trained on multi-language natural language inference datasets as well as on multiple text classification datasets. The model demonstrates a better contextual understanding of text and verbalized label because both inputs are encoded by different parts of a model - encoder and decoder respectively. The zero-shot classifier supports nearly 100 languages and can work in both directions, meaning that labels and text can belong to different languages."
   ]
  },
  {
   "cell_type": "code",
   "execution_count": 2,
   "metadata": {},
   "outputs": [
    {
     "name": "stderr",
     "output_type": "stream",
     "text": [
      "You are using a model of type T5 to instantiate a model of type t5. This is not supported for all configurations of models and can yield errors.\n"
     ]
    }
   ],
   "source": [
    "from liqfit.pipeline import ZeroShotClassificationPipeline\n",
    "from liqfit.models import T5ForZeroShotClassification\n",
    "from transformers import T5Tokenizer\n",
    "\n",
    "model = T5ForZeroShotClassification.from_pretrained('knowledgator/comprehend_it-multilingual-t5-base')\n",
    "tokenizer = T5Tokenizer.from_pretrained('knowledgator/comprehend_it-multilingual-t5-base')\n",
    "classifier = ZeroShotClassificationPipeline(model=model, tokenizer=tokenizer,\n",
    "                                                      hypothesis_template = '{}', encoder_decoder = True)"
   ]
  },
  {
   "cell_type": "code",
   "execution_count": 3,
   "metadata": {},
   "outputs": [
    {
     "name": "stderr",
     "output_type": "stream",
     "text": [
      "Asking to truncate to max_length but no maximum length is provided and the model has no predefined maximum length. Default to no truncation.\n"
     ]
    },
    {
     "data": {
      "text/plain": [
       "{'sequence': 'Este water gel leve e refrescante, proporciona hidratação imediata que ajuda a aliviar o repuxamento e aspereza da pele sensível.',\n",
       " 'labels': ['beleza', 'livros', 'cozinha'],\n",
       " 'scores': [0.9386342167854309, 0.04146720468997955, 0.01989862322807312]}"
      ]
     },
     "execution_count": 3,
     "metadata": {},
     "output_type": "execute_result"
    }
   ],
   "source": [
    "description = '''Este water gel leve e refrescante, proporciona hidratação imediata que ajuda a aliviar o repuxamento e aspereza da pele sensível.'''\n",
    "candidate_labels = ['beleza', 'cozinha', 'livros']\n",
    "result = classifier(description, candidate_labels, multi_label = False)\n",
    "result"
   ]
  },
  {
   "cell_type": "code",
   "execution_count": 4,
   "metadata": {},
   "outputs": [
    {
     "data": {
      "text/html": [
       "<div>\n",
       "<style scoped>\n",
       "    .dataframe tbody tr th:only-of-type {\n",
       "        vertical-align: middle;\n",
       "    }\n",
       "\n",
       "    .dataframe tbody tr th {\n",
       "        vertical-align: top;\n",
       "    }\n",
       "\n",
       "    .dataframe thead th {\n",
       "        text-align: right;\n",
       "    }\n",
       "</style>\n",
       "<table border=\"1\" class=\"dataframe\">\n",
       "  <thead>\n",
       "    <tr style=\"text-align: right;\">\n",
       "      <th></th>\n",
       "      <th>labels</th>\n",
       "      <th>scores</th>\n",
       "    </tr>\n",
       "  </thead>\n",
       "  <tbody>\n",
       "    <tr>\n",
       "      <th>0</th>\n",
       "      <td>beleza</td>\n",
       "      <td>0.938634</td>\n",
       "    </tr>\n",
       "    <tr>\n",
       "      <th>1</th>\n",
       "      <td>livros</td>\n",
       "      <td>0.041467</td>\n",
       "    </tr>\n",
       "    <tr>\n",
       "      <th>2</th>\n",
       "      <td>cozinha</td>\n",
       "      <td>0.019899</td>\n",
       "    </tr>\n",
       "  </tbody>\n",
       "</table>\n",
       "</div>"
      ],
      "text/plain": [
       "    labels    scores\n",
       "0   beleza  0.938634\n",
       "1   livros  0.041467\n",
       "2  cozinha  0.019899"
      ]
     },
     "execution_count": 4,
     "metadata": {},
     "output_type": "execute_result"
    }
   ],
   "source": [
    "import pandas as pd\n",
    "\n",
    "result = pd.DataFrame(result).drop(['sequence'], axis=1)\n",
    "result"
   ]
  },
  {
   "cell_type": "code",
   "execution_count": 5,
   "metadata": {},
   "outputs": [],
   "source": [
    "description = '''A fritadeira eletrica sem óleo start fry da elgin possui um design único, capacidade para até 3,5 litros,\n",
    "            potência de 1400w e revestimento antiaderente. Seu sistema de circulação de ar ultra rápido frita e economiza energia.\n",
    "            Sua grelha de fritura é removível e super fácil de limpar. Ela conta com uma proteção contra super aquecimento.\n",
    "            Possui controle de temperatura de 80°c a 200°c que permite você programar a temperatura de preparo para cada tipo de alimento,\n",
    "            timer para até 60 minutos com aviso sonoro e desligamento automático, assim você pode deixar preparando sua refeição\n",
    "            enquanto realiza outras tarefas.'''"
   ]
  },
  {
   "cell_type": "code",
   "execution_count": 6,
   "metadata": {},
   "outputs": [
    {
     "data": {
      "text/html": [
       "<div>\n",
       "<style scoped>\n",
       "    .dataframe tbody tr th:only-of-type {\n",
       "        vertical-align: middle;\n",
       "    }\n",
       "\n",
       "    .dataframe tbody tr th {\n",
       "        vertical-align: top;\n",
       "    }\n",
       "\n",
       "    .dataframe thead th {\n",
       "        text-align: right;\n",
       "    }\n",
       "</style>\n",
       "<table border=\"1\" class=\"dataframe\">\n",
       "  <thead>\n",
       "    <tr style=\"text-align: right;\">\n",
       "      <th></th>\n",
       "      <th>labels</th>\n",
       "      <th>scores</th>\n",
       "    </tr>\n",
       "  </thead>\n",
       "  <tbody>\n",
       "    <tr>\n",
       "      <th>0</th>\n",
       "      <td>cozinha</td>\n",
       "      <td>0.709798</td>\n",
       "    </tr>\n",
       "    <tr>\n",
       "      <th>1</th>\n",
       "      <td>beleza</td>\n",
       "      <td>0.236621</td>\n",
       "    </tr>\n",
       "    <tr>\n",
       "      <th>2</th>\n",
       "      <td>livros</td>\n",
       "      <td>0.053581</td>\n",
       "    </tr>\n",
       "  </tbody>\n",
       "</table>\n",
       "</div>"
      ],
      "text/plain": [
       "    labels    scores\n",
       "0  cozinha  0.709798\n",
       "1   beleza  0.236621\n",
       "2   livros  0.053581"
      ]
     },
     "execution_count": 6,
     "metadata": {},
     "output_type": "execute_result"
    }
   ],
   "source": [
    "result = classifier(description, candidate_labels, multi_label=False)\n",
    "result = pd.DataFrame(result).drop([\"sequence\"], axis=1)\n",
    "result"
   ]
  },
  {
   "cell_type": "code",
   "execution_count": 7,
   "metadata": {},
   "outputs": [
    {
     "data": {
      "text/html": [
       "<div>\n",
       "<style scoped>\n",
       "    .dataframe tbody tr th:only-of-type {\n",
       "        vertical-align: middle;\n",
       "    }\n",
       "\n",
       "    .dataframe tbody tr th {\n",
       "        vertical-align: top;\n",
       "    }\n",
       "\n",
       "    .dataframe thead th {\n",
       "        text-align: right;\n",
       "    }\n",
       "</style>\n",
       "<table border=\"1\" class=\"dataframe\">\n",
       "  <thead>\n",
       "    <tr style=\"text-align: right;\">\n",
       "      <th></th>\n",
       "      <th>Descrição</th>\n",
       "    </tr>\n",
       "  </thead>\n",
       "  <tbody>\n",
       "    <tr>\n",
       "      <th>0</th>\n",
       "      <td>Liquidificador de alta potência com jarra de v...</td>\n",
       "    </tr>\n",
       "    <tr>\n",
       "      <th>1</th>\n",
       "      <td>Forno Micro-ondas de 20 litros, com menu desco...</td>\n",
       "    </tr>\n",
       "    <tr>\n",
       "      <th>2</th>\n",
       "      <td>Máquina de café espresso com reservatório de á...</td>\n",
       "    </tr>\n",
       "    <tr>\n",
       "      <th>3</th>\n",
       "      <td>Torradeira com capacidade para quatro fatias e...</td>\n",
       "    </tr>\n",
       "    <tr>\n",
       "      <th>4</th>\n",
       "      <td>Panela elétrica multifuncional que cozinha, as...</td>\n",
       "    </tr>\n",
       "    <tr>\n",
       "      <th>5</th>\n",
       "      <td>Smartphone com 128GB de armazenamento e câmera...</td>\n",
       "    </tr>\n",
       "    <tr>\n",
       "      <th>6</th>\n",
       "      <td>Smartwatch monitoramento de passos, frequência...</td>\n",
       "    </tr>\n",
       "  </tbody>\n",
       "</table>\n",
       "</div>"
      ],
      "text/plain": [
       "                                           Descrição\n",
       "0  Liquidificador de alta potência com jarra de v...\n",
       "1  Forno Micro-ondas de 20 litros, com menu desco...\n",
       "2  Máquina de café espresso com reservatório de á...\n",
       "3  Torradeira com capacidade para quatro fatias e...\n",
       "4  Panela elétrica multifuncional que cozinha, as...\n",
       "5  Smartphone com 128GB de armazenamento e câmera...\n",
       "6  Smartwatch monitoramento de passos, frequência..."
      ]
     },
     "execution_count": 7,
     "metadata": {},
     "output_type": "execute_result"
    }
   ],
   "source": [
    "# Applying the model to some data\n",
    "df = pd.read_csv('../dados/descricoes_produtos.csv')\n",
    "df.head(7)"
   ]
  },
  {
   "cell_type": "code",
   "execution_count": 8,
   "metadata": {},
   "outputs": [],
   "source": [
    "candidate_labels = ['eletrodomésticos', 'eletrônicos', 'beleza', 'brinquedos']"
   ]
  },
  {
   "cell_type": "code",
   "execution_count": 11,
   "metadata": {},
   "outputs": [],
   "source": [
    "def categorize(description: str) -> str:\n",
    "    \"\"\"\n",
    "    Categorizes a given description into the highest scoring label.\n",
    "    \n",
    "    Args:\n",
    "        description (str): The text description to categorize.\n",
    "\n",
    "    Returns:\n",
    "        str: The label with the highest score for the given description.\n",
    "    \"\"\"\n",
    "\n",
    "    result = classifier(description, candidate_labels, multi_label=False)\n",
    "    categoria_max = max(zip(result['labels'],result['scores']), key=lambda x: x[1])[0]\n",
    "    return categoria_max"
   ]
  },
  {
   "cell_type": "code",
   "execution_count": 13,
   "metadata": {},
   "outputs": [],
   "source": [
    "# Apply the function\n",
    "df['Categoria'] = df['Descrição'].apply(categorize)"
   ]
  },
  {
   "cell_type": "code",
   "execution_count": 15,
   "metadata": {},
   "outputs": [
    {
     "data": {
      "text/html": [
       "<div>\n",
       "<style scoped>\n",
       "    .dataframe tbody tr th:only-of-type {\n",
       "        vertical-align: middle;\n",
       "    }\n",
       "\n",
       "    .dataframe tbody tr th {\n",
       "        vertical-align: top;\n",
       "    }\n",
       "\n",
       "    .dataframe thead th {\n",
       "        text-align: right;\n",
       "    }\n",
       "</style>\n",
       "<table border=\"1\" class=\"dataframe\">\n",
       "  <thead>\n",
       "    <tr style=\"text-align: right;\">\n",
       "      <th></th>\n",
       "      <th>Descrição</th>\n",
       "      <th>Categoria</th>\n",
       "    </tr>\n",
       "  </thead>\n",
       "  <tbody>\n",
       "    <tr>\n",
       "      <th>0</th>\n",
       "      <td>Liquidificador de alta potência com jarra de v...</td>\n",
       "      <td>eletrodomésticos</td>\n",
       "    </tr>\n",
       "    <tr>\n",
       "      <th>1</th>\n",
       "      <td>Forno Micro-ondas de 20 litros, com menu desco...</td>\n",
       "      <td>eletrodomésticos</td>\n",
       "    </tr>\n",
       "    <tr>\n",
       "      <th>2</th>\n",
       "      <td>Máquina de café espresso com reservatório de á...</td>\n",
       "      <td>eletrodomésticos</td>\n",
       "    </tr>\n",
       "    <tr>\n",
       "      <th>3</th>\n",
       "      <td>Torradeira com capacidade para quatro fatias e...</td>\n",
       "      <td>eletrodomésticos</td>\n",
       "    </tr>\n",
       "    <tr>\n",
       "      <th>4</th>\n",
       "      <td>Panela elétrica multifuncional que cozinha, as...</td>\n",
       "      <td>eletrodomésticos</td>\n",
       "    </tr>\n",
       "    <tr>\n",
       "      <th>5</th>\n",
       "      <td>Smartphone com 128GB de armazenamento e câmera...</td>\n",
       "      <td>eletrônicos</td>\n",
       "    </tr>\n",
       "    <tr>\n",
       "      <th>6</th>\n",
       "      <td>Smartwatch monitoramento de passos, frequência...</td>\n",
       "      <td>eletrônicos</td>\n",
       "    </tr>\n",
       "  </tbody>\n",
       "</table>\n",
       "</div>"
      ],
      "text/plain": [
       "                                           Descrição         Categoria\n",
       "0  Liquidificador de alta potência com jarra de v...  eletrodomésticos\n",
       "1  Forno Micro-ondas de 20 litros, com menu desco...  eletrodomésticos\n",
       "2  Máquina de café espresso com reservatório de á...  eletrodomésticos\n",
       "3  Torradeira com capacidade para quatro fatias e...  eletrodomésticos\n",
       "4  Panela elétrica multifuncional que cozinha, as...  eletrodomésticos\n",
       "5  Smartphone com 128GB de armazenamento e câmera...       eletrônicos\n",
       "6  Smartwatch monitoramento de passos, frequência...       eletrônicos"
      ]
     },
     "execution_count": 15,
     "metadata": {},
     "output_type": "execute_result"
    }
   ],
   "source": [
    "df.head(7)"
   ]
  },
  {
   "cell_type": "code",
   "execution_count": 16,
   "metadata": {},
   "outputs": [
    {
     "data": {
      "text/html": [
       "<div>\n",
       "<style scoped>\n",
       "    .dataframe tbody tr th:only-of-type {\n",
       "        vertical-align: middle;\n",
       "    }\n",
       "\n",
       "    .dataframe tbody tr th {\n",
       "        vertical-align: top;\n",
       "    }\n",
       "\n",
       "    .dataframe thead th {\n",
       "        text-align: right;\n",
       "    }\n",
       "</style>\n",
       "<table border=\"1\" class=\"dataframe\">\n",
       "  <thead>\n",
       "    <tr style=\"text-align: right;\">\n",
       "      <th></th>\n",
       "      <th>Descrição</th>\n",
       "      <th>Categoria</th>\n",
       "    </tr>\n",
       "  </thead>\n",
       "  <tbody>\n",
       "    <tr>\n",
       "      <th>15</th>\n",
       "      <td>Perfume feminino com notas de jasmim e sândalo...</td>\n",
       "      <td>beleza</td>\n",
       "    </tr>\n",
       "    <tr>\n",
       "      <th>16</th>\n",
       "      <td>Kit de barbear com creme, pós-barba e lâminas ...</td>\n",
       "      <td>beleza</td>\n",
       "    </tr>\n",
       "    <tr>\n",
       "      <th>17</th>\n",
       "      <td>Sérum facial anti-idade com vitamina C e ácido...</td>\n",
       "      <td>beleza</td>\n",
       "    </tr>\n",
       "    <tr>\n",
       "      <th>18</th>\n",
       "      <td>Máscara facial de argila purificante, ideal pa...</td>\n",
       "      <td>beleza</td>\n",
       "    </tr>\n",
       "    <tr>\n",
       "      <th>19</th>\n",
       "      <td>Quebra-cabeça de 1000 peças com imagem de pais...</td>\n",
       "      <td>brinquedos</td>\n",
       "    </tr>\n",
       "    <tr>\n",
       "      <th>20</th>\n",
       "      <td>Kit de ciências para crianças com experiências...</td>\n",
       "      <td>brinquedos</td>\n",
       "    </tr>\n",
       "    <tr>\n",
       "      <th>21</th>\n",
       "      <td>Jogo de tabuleiro clássico de estratégia para ...</td>\n",
       "      <td>brinquedos</td>\n",
       "    </tr>\n",
       "  </tbody>\n",
       "</table>\n",
       "</div>"
      ],
      "text/plain": [
       "                                            Descrição   Categoria\n",
       "15  Perfume feminino com notas de jasmim e sândalo...      beleza\n",
       "16  Kit de barbear com creme, pós-barba e lâminas ...      beleza\n",
       "17  Sérum facial anti-idade com vitamina C e ácido...      beleza\n",
       "18  Máscara facial de argila purificante, ideal pa...      beleza\n",
       "19  Quebra-cabeça de 1000 peças com imagem de pais...  brinquedos\n",
       "20  Kit de ciências para crianças com experiências...  brinquedos\n",
       "21  Jogo de tabuleiro clássico de estratégia para ...  brinquedos"
      ]
     },
     "execution_count": 16,
     "metadata": {},
     "output_type": "execute_result"
    }
   ],
   "source": [
    "df.tail(7)"
   ]
  }
 ],
 "metadata": {
  "kernelspec": {
   "display_name": "hf-venv",
   "language": "python",
   "name": "python3"
  },
  "language_info": {
   "codemirror_mode": {
    "name": "ipython",
    "version": 3
   },
   "file_extension": ".py",
   "mimetype": "text/x-python",
   "name": "python",
   "nbconvert_exporter": "python",
   "pygments_lexer": "ipython3",
   "version": "3.12.4"
  }
 },
 "nbformat": 4,
 "nbformat_minor": 2
}
